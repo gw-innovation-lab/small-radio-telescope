{
 "cells": [
  {
   "cell_type": "code",
   "execution_count": 7,
   "metadata": {},
   "outputs": [],
   "source": [
    "## Tutorial: Transforming between coordinate systems\n",
    "## From: http://learn.astropy.org/rst-tutorials/Coordinates-Transform.html?highlight=filtertutorials\n",
    "## This code should allow me to transform between any coordinate systems I might need\n",
    "from urllib.parse import urlencode\n",
    "from urllib.request import urlretrieve\n",
    "\n",
    "# Third-party dependencies\n",
    "from astropy import units as u\n",
    "from astropy.coordinates import SkyCoord\n",
    "from astropy.table import Table\n",
    "import numpy as np\n",
    "from astropy.time import Time\n",
    "\n",
    "from IPython.display import Image"
   ]
  },
  {
   "cell_type": "code",
   "execution_count": 24,
   "metadata": {},
   "outputs": [],
   "source": [
    "# Set up matplotlib and use a nicer set of plot parameters\n",
    "from astropy.visualization import astropy_mpl_style\n",
    "import matplotlib.pyplot as plt\n",
    "plt.style.use(astropy_mpl_style)\n",
    "%matplotlib inline"
   ]
  },
  {
   "cell_type": "code",
   "execution_count": 25,
   "metadata": {},
   "outputs": [
    {
     "name": "stdout",
     "output_type": "stream",
     "text": [
      "<SkyCoord (ICRS): (ra, dec) in deg\n",
      "    (9.81625, 0.88806)>\n"
     ]
    }
   ],
   "source": [
    "## This line stores the location of the object (ra,dec) in icrs\n",
    "hcg7_center = SkyCoord(9.81625*u.deg, 0.88806*u.deg, frame='icrs')  # using degrees directly\n",
    "print(hcg7_center)"
   ]
  },
  {
   "cell_type": "code",
   "execution_count": 26,
   "metadata": {},
   "outputs": [
    {
     "name": "stdout",
     "output_type": "stream",
     "text": [
      "<SkyCoord (ICRS): (ra, dec) in deg\n",
      "    (9.81625, 0.88806)>\n"
     ]
    }
   ],
   "source": [
    "## If we enter it in the more \"human\" format it will have the same result\n",
    "hcg7_center = SkyCoord('0h39m15.9s', '0d53m17.016s', frame='icrs')  # passing in string format\n",
    "print(hcg7_center)"
   ]
  },
  {
   "cell_type": "code",
   "execution_count": 27,
   "metadata": {},
   "outputs": [
    {
     "name": "stdout",
     "output_type": "stream",
     "text": [
      "9d48m58.5s\n",
      "0d53m17.016s\n"
     ]
    }
   ],
   "source": [
    "print(hcg7_center.ra)\n",
    "print(hcg7_center.dec)"
   ]
  },
  {
   "cell_type": "code",
   "execution_count": 28,
   "metadata": {},
   "outputs": [],
   "source": [
    "hcg7_center = SkyCoord(9.81625*u.deg, 0.88806*u.deg, frame='icrs')"
   ]
  },
  {
   "cell_type": "code",
   "execution_count": 29,
   "metadata": {},
   "outputs": [
    {
     "data": {
      "text/plain": [
       "<SkyCoord (Galactic): (l, b) in deg\n",
       "    (116.47556813, -61.83099472)>"
      ]
     },
     "execution_count": 29,
     "metadata": {},
     "output_type": "execute_result"
    }
   ],
   "source": [
    "## Transform to galactic \"Quick reference form\" long hand is below\n",
    "hcg7_center.galactic"
   ]
  },
  {
   "cell_type": "code",
   "execution_count": 30,
   "metadata": {},
   "outputs": [
    {
     "data": {
      "text/plain": [
       "<SkyCoord (Galactic): (l, b) in deg\n",
       "    (116.47556813, -61.83099472)>"
      ]
     },
     "execution_count": 30,
     "metadata": {},
     "output_type": "execute_result"
    }
   ],
   "source": [
    "from astropy.coordinates import Galactic  # new coordinate baseclass\n",
    "hcg7_center.transform_to(Galactic())"
   ]
  },
  {
   "cell_type": "code",
   "execution_count": 31,
   "metadata": {},
   "outputs": [
    {
     "data": {
      "text/plain": [
       "<SkyCoord (Galactic): (l, b) in deg\n",
       "    (116.47556813, -61.83099472)>"
      ]
     },
     "execution_count": 31,
     "metadata": {},
     "output_type": "execute_result"
    }
   ],
   "source": [
    "hcg7_center.transform_to('galactic')"
   ]
  },
  {
   "cell_type": "code",
   "execution_count": 32,
   "metadata": {},
   "outputs": [
    {
     "name": "stdout",
     "output_type": "stream",
     "text": [
      "<SkyCoord (FK5: equinox=J2000.000): (ra, dec) in deg\n",
      "    (9.81625645, 0.88806155)>\n"
     ]
    }
   ],
   "source": [
    "hcg7_center_fk5 = hcg7_center.transform_to('fk5')\n",
    "print(hcg7_center_fk5)"
   ]
  },
  {
   "cell_type": "code",
   "execution_count": 33,
   "metadata": {},
   "outputs": [
    {
     "data": {
      "text/plain": [
       "<SkyCoord (FK5: equinox=J1975.000): (ra, dec) in deg\n",
       "    (9.49565759, 0.75084648)>"
      ]
     },
     "execution_count": 33,
     "metadata": {},
     "output_type": "execute_result"
    }
   ],
   "source": [
    "from astropy.coordinates import FK5\n",
    "hcg7_center_fk5.transform_to(FK5(equinox='J1975'))  # precess to a different equinox"
   ]
  },
  {
   "cell_type": "code",
   "execution_count": 34,
   "metadata": {},
   "outputs": [
    {
     "ename": "AttributeError",
     "evalue": "'SkyCoord' object has no attribute 'ra'",
     "output_type": "error",
     "traceback": [
      "\u001b[1;31m---------------------------------------------------------------------------\u001b[0m",
      "\u001b[1;31mAttributeError\u001b[0m                            Traceback (most recent call last)",
      "\u001b[1;32m<ipython-input-34-7ae881d7c986>\u001b[0m in \u001b[0;36m<module>\u001b[1;34m\u001b[0m\n\u001b[0;32m      1\u001b[0m \u001b[1;31m## This should fail\u001b[0m\u001b[1;33m\u001b[0m\u001b[1;33m\u001b[0m\u001b[1;33m\u001b[0m\u001b[0m\n\u001b[1;32m----> 2\u001b[1;33m \u001b[0mhcg7_center\u001b[0m\u001b[1;33m.\u001b[0m\u001b[0mgalactic\u001b[0m\u001b[1;33m.\u001b[0m\u001b[0mra\u001b[0m  \u001b[1;31m# should fail because Galactic coordinates are l/b not RA/Dec\u001b[0m\u001b[1;33m\u001b[0m\u001b[1;33m\u001b[0m\u001b[0m\n\u001b[0m",
      "\u001b[1;32m~\\AppData\\Local\\Continuum\\anaconda3\\lib\\site-packages\\astropy\\coordinates\\sky_coordinate.py\u001b[0m in \u001b[0;36m__getattr__\u001b[1;34m(self, attr)\u001b[0m\n\u001b[0;32m    598\u001b[0m         \u001b[1;31m# Fail\u001b[0m\u001b[1;33m\u001b[0m\u001b[1;33m\u001b[0m\u001b[1;33m\u001b[0m\u001b[0m\n\u001b[0;32m    599\u001b[0m         raise AttributeError(\"'{0}' object has no attribute '{1}'\"\n\u001b[1;32m--> 600\u001b[1;33m                              .format(self.__class__.__name__, attr))\n\u001b[0m\u001b[0;32m    601\u001b[0m \u001b[1;33m\u001b[0m\u001b[0m\n\u001b[0;32m    602\u001b[0m     \u001b[1;32mdef\u001b[0m \u001b[0m__setattr__\u001b[0m\u001b[1;33m(\u001b[0m\u001b[0mself\u001b[0m\u001b[1;33m,\u001b[0m \u001b[0mattr\u001b[0m\u001b[1;33m,\u001b[0m \u001b[0mval\u001b[0m\u001b[1;33m)\u001b[0m\u001b[1;33m:\u001b[0m\u001b[1;33m\u001b[0m\u001b[1;33m\u001b[0m\u001b[0m\n",
      "\u001b[1;31mAttributeError\u001b[0m: 'SkyCoord' object has no attribute 'ra'"
     ]
    }
   ],
   "source": [
    "## This should fail\n",
    "hcg7_center.galactic.ra  # should fail because Galactic coordinates are l/b not RA/Dec"
   ]
  },
  {
   "cell_type": "code",
   "execution_count": 35,
   "metadata": {},
   "outputs": [
    {
     "name": "stdout",
     "output_type": "stream",
     "text": [
      "116d28m32.0453s -61d49m51.581s\n"
     ]
    }
   ],
   "source": [
    "## Call the elements produced directly\n",
    "print(hcg7_center.galactic.l, hcg7_center.galactic.b)"
   ]
  },
  {
   "cell_type": "code",
   "execution_count": 36,
   "metadata": {},
   "outputs": [],
   "source": [
    "from astropy.coordinates import EarthLocation\n",
    "from astropy.time import Time"
   ]
  },
  {
   "cell_type": "code",
   "execution_count": 37,
   "metadata": {},
   "outputs": [],
   "source": [
    "## Here is where we start actually doing what I'm trying to do.\n",
    "## The next section will focus on converting to Altittude and Azimuth\n",
    "## Since these are referenced from Earth, we need to include a time and location \n",
    "## Time is referenced from UTC\n",
    "\n",
    "# Kitt Peak, Arizona\n",
    "kitt_peak = EarthLocation(lat='31d57.5m', lon='-111d35.8m', height=2096*u.m)"
   ]
  },
  {
   "cell_type": "code",
   "execution_count": 38,
   "metadata": {},
   "outputs": [],
   "source": [
    "kitt_peak = EarthLocation.of_site('Kitt Peak')"
   ]
  },
  {
   "cell_type": "code",
   "execution_count": 39,
   "metadata": {},
   "outputs": [],
   "source": [
    "#EarthLocation.get_site_names()"
   ]
  },
  {
   "cell_type": "code",
   "execution_count": 40,
   "metadata": {},
   "outputs": [
    {
     "name": "stdout",
     "output_type": "stream",
     "text": [
      "2019-07-30 20:50:37.885346\n"
     ]
    }
   ],
   "source": [
    "## Define time for observation\n",
    "observing_time = Time('2010-12-21 1:00')\n",
    "print(Time.now())"
   ]
  },
  {
   "cell_type": "code",
   "execution_count": 41,
   "metadata": {},
   "outputs": [
    {
     "name": "stdout",
     "output_type": "stream",
     "text": [
      "<AltAz Frame (obstime=2010-12-21 01:00:00.000, location=(-1994502.60430614, -5037538.54232911, 3358104.99690298) m, pressure=0.0 hPa, temperature=0.0 deg_C, relative_humidity=0.0, obswl=1.0 micron)>\n"
     ]
    }
   ],
   "source": [
    "from astropy.coordinates import AltAz\n",
    "\n",
    "## Full information for observation at this time and place\n",
    "aa = AltAz(location=kitt_peak, obstime=observing_time)\n",
    "print(aa)"
   ]
  },
  {
   "cell_type": "code",
   "execution_count": 42,
   "metadata": {
    "scrolled": true
   },
   "outputs": [
    {
     "data": {
      "text/plain": [
       "<SkyCoord (AltAz: obstime=2010-12-21 01:00:00.000, location=(-1994502.60430614, -5037538.54232911, 3358104.99690298) m, pressure=0.0 hPa, temperature=0.0 deg_C, relative_humidity=0.0, obswl=1.0 micron): (az, alt) in deg\n",
       "    (149.19234446, 55.05673074)>"
      ]
     },
     "execution_count": 42,
     "metadata": {},
     "output_type": "execute_result"
    }
   ],
   "source": [
    "hcg7_center.transform_to(aa)"
   ]
  },
  {
   "cell_type": "code",
   "execution_count": 43,
   "metadata": {},
   "outputs": [
    {
     "data": {
      "text/latex": [
       "$55^\\circ03{}^\\prime24.2307{}^{\\prime\\prime}$"
      ],
      "text/plain": [
       "<Latitude 55.05673074 deg>"
      ]
     },
     "execution_count": 43,
     "metadata": {},
     "output_type": "execute_result"
    }
   ],
   "source": [
    "hcg7_center.transform_to(aa).alt"
   ]
  },
  {
   "cell_type": "code",
   "execution_count": 44,
   "metadata": {},
   "outputs": [
    {
     "name": "stdout",
     "output_type": "stream",
     "text": [
      "[1.21992941 1.21421655 1.20885827 1.20384724 1.19917667 1.19484031\n",
      " 1.19083239 1.18714763 1.18378121 1.18072876 1.17798633 1.17555042\n",
      " 1.17341791 1.1715861  1.17005266 1.16881567 1.16787356 1.16722516\n",
      " 1.16686966 1.16680661 1.16703592 1.1675579  1.16837319 1.16948281\n",
      " 1.17088816 1.172591   1.17459349 1.17689817 1.17950797 1.18242623\n",
      " 1.18565671 1.18920359 1.19307149 1.1972655  1.20179116 1.20665454\n",
      " 1.21186216 1.21742114 1.22333911 1.22962431 1.23628559 1.24333242\n",
      " 1.250775   1.2586242  1.26689168 1.2755899  1.28473216 1.29433269\n",
      " 1.30440666 1.31497031 1.32604093 1.33763704 1.34977838 1.36248606\n",
      " 1.37578264 1.38969225 1.40424068 1.41945558 1.43536653 1.45200524\n",
      " 1.46940573 1.48760453 1.50664088 1.526557   1.54739832 1.56921382\n",
      " 1.59205636 1.61598303 1.64105561 1.66734099 1.69491174 1.72384673\n",
      " 1.75423172 1.78616023 1.81973434 1.85506572 1.89227675 1.9315018\n",
      " 1.97288879 2.01660084 2.06281831 2.11174111 2.1635914  2.21861677\n",
      " 2.27709394 2.33933321 2.40568363 2.47653925 2.55234662 2.63361377\n",
      " 2.72092118 2.81493512 2.9164241  3.02627925 3.14553974 3.27542483\n",
      " 3.41737463 3.57310245 3.74466274 3.93454044]\n"
     ]
    },
    {
     "data": {
      "image/png": "[encoded data removed]",
      "text/plain": [
       "<Figure size 432x288 with 1 Axes>"
      ]
     },
     "metadata": {
      "needs_background": "light"
     },
     "output_type": "display_data"
    }
   ],
   "source": [
    "# this gives a Time object with an *array* of times\n",
    "delta_hours = np.linspace(0, 6, 100)*u.hour\n",
    "full_night_times = observing_time + delta_hours\n",
    "full_night_aa_frames = AltAz(location=kitt_peak, obstime=full_night_times)\n",
    "full_night_aa_coos = hcg7_center.transform_to(full_night_aa_frames)\n",
    "\n",
    "plt.plot(delta_hours, full_night_aa_coos.secz)\n",
    "plt.xlabel('Hours from 6pm AZ time')\n",
    "plt.ylabel('Airmass [Sec(z)]')\n",
    "plt.ylim(0.9,3)\n",
    "plt.tight_layout()\n",
    "print(full_night_aa_coos.secz)"
   ]
  },
  {
   "cell_type": "code",
   "execution_count": 45,
   "metadata": {},
   "outputs": [
    {
     "data": {
      "image/png": "[encoded data removed]",
      "text/plain": [
       "<Figure size 432x288 with 1 Axes>"
      ]
     },
     "metadata": {
      "needs_background": "light"
     },
     "output_type": "display_data"
    }
   ],
   "source": [
    "from astropy.coordinates import get_sun\n",
    "\n",
    "full_night_sun_coos = get_sun(full_night_times).transform_to(full_night_aa_frames)\n",
    "plt.plot(delta_hours, full_night_sun_coos.alt.deg)\n",
    "plt.axhline(-18, color='k')\n",
    "plt.xlabel('Hours from 6pm AZ time')\n",
    "plt.ylabel('Sun altitude')\n",
    "plt.tight_layout()"
   ]
  },
  {
   "cell_type": "code",
   "execution_count": 46,
   "metadata": {},
   "outputs": [
    {
     "name": "stdout",
     "output_type": "stream",
     "text": [
      "<SkyCoord (AltAz: obstime=2019-07-30 20:50:41.532944, location=(-1994502.60430614, -5037538.54232911, 3358104.99690298) m, pressure=0.0 hPa, temperature=0.0 deg_C, relative_humidity=0.0, obswl=1.0 micron): (az, alt) in deg\n",
      "    (302.45450525, -39.27077655)>\n"
     ]
    }
   ],
   "source": [
    "now = Time.now()\n",
    "hcg7_center = SkyCoord(9.81625*u.deg, 0.88806*u.deg, frame='icrs')\n",
    "kitt_peak_aa = AltAz(location=kitt_peak, obstime=now)\n",
    "print(hcg7_center.transform_to(kitt_peak_aa))"
   ]
  },
  {
   "cell_type": "code",
   "execution_count": 47,
   "metadata": {},
   "outputs": [
    {
     "data": {
      "text/plain": [
       "<SkyCoord (AltAz: obstime=['2010-12-21 01:00:00.000' '2010-12-21 01:03:38.182'\n",
       " '2010-12-21 01:07:16.364' '2010-12-21 01:10:54.545'\n",
       " '2010-12-21 01:14:32.727' '2010-12-21 01:18:10.909'\n",
       " '2010-12-21 01:21:49.091' '2010-12-21 01:25:27.273'\n",
       " '2010-12-21 01:29:05.455' '2010-12-21 01:32:43.636'\n",
       " '2010-12-21 01:36:21.818' '2010-12-21 01:40:00.000'\n",
       " '2010-12-21 01:43:38.182' '2010-12-21 01:47:16.364'\n",
       " '2010-12-21 01:50:54.545' '2010-12-21 01:54:32.727'\n",
       " '2010-12-21 01:58:10.909' '2010-12-21 02:01:49.091'\n",
       " '2010-12-21 02:05:27.273' '2010-12-21 02:09:05.455'\n",
       " '2010-12-21 02:12:43.636' '2010-12-21 02:16:21.818'\n",
       " '2010-12-21 02:20:00.000' '2010-12-21 02:23:38.182'\n",
       " '2010-12-21 02:27:16.364' '2010-12-21 02:30:54.545'\n",
       " '2010-12-21 02:34:32.727' '2010-12-21 02:38:10.909'\n",
       " '2010-12-21 02:41:49.091' '2010-12-21 02:45:27.273'\n",
       " '2010-12-21 02:49:05.455' '2010-12-21 02:52:43.636'\n",
       " '2010-12-21 02:56:21.818' '2010-12-21 03:00:00.000'\n",
       " '2010-12-21 03:03:38.182' '2010-12-21 03:07:16.364'\n",
       " '2010-12-21 03:10:54.545' '2010-12-21 03:14:32.727'\n",
       " '2010-12-21 03:18:10.909' '2010-12-21 03:21:49.091'\n",
       " '2010-12-21 03:25:27.273' '2010-12-21 03:29:05.455'\n",
       " '2010-12-21 03:32:43.636' '2010-12-21 03:36:21.818'\n",
       " '2010-12-21 03:40:00.000' '2010-12-21 03:43:38.182'\n",
       " '2010-12-21 03:47:16.364' '2010-12-21 03:50:54.545'\n",
       " '2010-12-21 03:54:32.727' '2010-12-21 03:58:10.909'\n",
       " '2010-12-21 04:01:49.091' '2010-12-21 04:05:27.273'\n",
       " '2010-12-21 04:09:05.455' '2010-12-21 04:12:43.636'\n",
       " '2010-12-21 04:16:21.818' '2010-12-21 04:20:00.000'\n",
       " '2010-12-21 04:23:38.182' '2010-12-21 04:27:16.364'\n",
       " '2010-12-21 04:30:54.545' '2010-12-21 04:34:32.727'\n",
       " '2010-12-21 04:38:10.909' '2010-12-21 04:41:49.091'\n",
       " '2010-12-21 04:45:27.273' '2010-12-21 04:49:05.455'\n",
       " '2010-12-21 04:52:43.636' '2010-12-21 04:56:21.818'\n",
       " '2010-12-21 05:00:00.000' '2010-12-21 05:03:38.182'\n",
       " '2010-12-21 05:07:16.364' '2010-12-21 05:10:54.545'\n",
       " '2010-12-21 05:14:32.727' '2010-12-21 05:18:10.909'\n",
       " '2010-12-21 05:21:49.091' '2010-12-21 05:25:27.273'\n",
       " '2010-12-21 05:29:05.455' '2010-12-21 05:32:43.636'\n",
       " '2010-12-21 05:36:21.818' '2010-12-21 05:40:00.000'\n",
       " '2010-12-21 05:43:38.182' '2010-12-21 05:47:16.364'\n",
       " '2010-12-21 05:50:54.545' '2010-12-21 05:54:32.727'\n",
       " '2010-12-21 05:58:10.909' '2010-12-21 06:01:49.091'\n",
       " '2010-12-21 06:05:27.273' '2010-12-21 06:09:05.455'\n",
       " '2010-12-21 06:12:43.636' '2010-12-21 06:16:21.818'\n",
       " '2010-12-21 06:20:00.000' '2010-12-21 06:23:38.182'\n",
       " '2010-12-21 06:27:16.364' '2010-12-21 06:30:54.545'\n",
       " '2010-12-21 06:34:32.727' '2010-12-21 06:38:10.909'\n",
       " '2010-12-21 06:41:49.091' '2010-12-21 06:45:27.273'\n",
       " '2010-12-21 06:49:05.455' '2010-12-21 06:52:43.636'\n",
       " '2010-12-21 06:56:21.818' '2010-12-21 07:00:00.000'], location=(-1994502.60430614, -5037538.54232911, 3358104.99690298) m, pressure=0.0 hPa, temperature=0.0 deg_C, relative_humidity=0.0, obswl=1.0 micron): (az, alt) in deg\n",
       "    [(149.19234446, 55.05673074), (150.63960059, 55.44441648),\n",
       "     (152.11475316, 55.81491188), (153.61740318, 56.16764322),\n",
       "     (155.1470151 , 56.50204086), (156.7029094 , 56.81754249),\n",
       "     (158.28425641, 57.11359672), (159.89007152, 57.38966687),\n",
       "     (161.51921215, 57.64523482), (163.17037666, 57.87980516),\n",
       "     (164.84210554, 58.09290926), (166.53278489, 58.28410941),\n",
       "     (168.24065254, 58.45300287), (169.96380675, 58.59922576),\n",
       "     (171.70021754, 58.72245672), (173.44774051, 58.82242025),\n",
       "     (175.20413304, 58.89888967), (176.96707263, 58.95168964),\n",
       "     (178.73417691, 58.98069806), (180.50302504, 58.9858475 ),\n",
       "     (182.27117997, 58.96712597), (184.03621114, 58.92457703),\n",
       "     (185.79571687, 58.85829933), (187.54734629, 58.76844546),\n",
       "     (189.28881997, 58.65522023), (191.01794902, 58.5188784 ),\n",
       "     (192.73265226, 58.35972194), (194.43097108, 58.17809681),\n",
       "     (196.11108189, 57.97438946), (197.77130593, 57.74902301),\n",
       "     (199.4101165 , 57.50245324), (201.02614358, 57.23516452),\n",
       "     (202.61817598, 56.94766566), (204.18516121, 56.64048585),\n",
       "     (205.72620325, 56.31417059), (207.24055848, 55.96927792),\n",
       "     (208.7276301 , 55.60637476), (210.18696116, 55.22603344),\n",
       "     (211.61822672, 54.82882861), (213.02122512, 54.41533431),\n",
       "     (214.39586882, 53.98612139), (215.74217497, 53.54175517),\n",
       "     (217.06025581, 53.08279342), (218.35030919, 52.60978461),\n",
       "     (219.61260933, 52.12326637), (220.84749786, 51.62376424),\n",
       "     (222.05537527, 51.11179069), (223.23669287, 50.58784425),\n",
       "     (224.39194524, 50.05240889), (225.52166325, 49.5059536 ),\n",
       "     (226.62640767, 48.94893206), (227.70676322, 48.38178249),\n",
       "     (228.76333333, 47.8049276 ), (229.79673534, 47.21877465),\n",
       "     (230.80759619, 46.62371559), (231.79654866, 46.02012729),\n",
       "     (232.76422803, 45.4083718 ), (233.71126913, 44.7887967 ),\n",
       "     (234.63830383, 44.16173547), (235.54595883, 43.52750787),\n",
       "     (236.43485382, 42.8864204 ), (237.30559989, 42.23876672),\n",
       "     (238.15879823, 41.5848281 ), (238.99503905, 40.92487391),\n",
       "     (239.81490071, 40.25916206), (240.61894906, 39.58793945),\n",
       "     (241.40773687, 38.91144249), (242.18180352, 38.22989745),\n",
       "     (242.94167468, 37.54352101), (243.68786224, 36.8525206 ),\n",
       "     (244.4208642 , 36.1570949 ), (245.14116474, 35.45743418),\n",
       "     (245.84923431, 34.75372075), (246.54552979, 34.04612928),\n",
       "     (247.2304947 , 33.33482724), (247.90455943, 32.6199752 ),\n",
       "     (248.56814157, 31.90172719), (249.22164617, 31.18023102),\n",
       "     (249.86546611, 30.4556286 ), (250.49998243, 29.72805622),\n",
       "     (251.12556467, 28.99764486), (251.74257131, 28.26452045),\n",
       "     (252.35135006, 27.52880414), (252.95223831, 26.79061253),\n",
       "     (253.54556346, 26.05005792), (254.13164334, 25.30724855),\n",
       "     (254.71078657, 24.56228879), (255.28329292, 23.81527939),\n",
       "     (255.84945372, 23.0663176 ), (256.40955218, 22.31549747),\n",
       "     (256.96386376, 21.5629099 ), (257.51265654, 20.80864293),\n",
       "     (258.05619156, 20.05278184), (258.59472312, 19.29540932),\n",
       "     (259.12849915, 18.5366056 ), (259.65776152, 17.77644865),\n",
       "     (260.18274635, 17.01501426), (260.70368431, 16.2523762 ),\n",
       "     (261.22080092, 15.48860634), (261.73431686, 14.72377477)]>"
      ]
     },
     "execution_count": 47,
     "metadata": {},
     "output_type": "execute_result"
    }
   ],
   "source": [
    "full_night_aa_coos"
   ]
  },
  {
   "cell_type": "code",
   "execution_count": 49,
   "metadata": {},
   "outputs": [],
   "source": [
    "from astropy.coordinates import get_body\n"
   ]
  },
  {
   "cell_type": "code",
   "execution_count": 53,
   "metadata": {},
   "outputs": [
    {
     "ename": "AttributeError",
     "evalue": "'list' object has no attribute 'lower'",
     "output_type": "error",
     "traceback": [
      "\u001b[1;31m---------------------------------------------------------------------------\u001b[0m",
      "\u001b[1;31mAttributeError\u001b[0m                            Traceback (most recent call last)",
      "\u001b[1;32m<ipython-input-53-db15081a2ddd>\u001b[0m in \u001b[0;36m<module>\u001b[1;34m\u001b[0m\n\u001b[0;32m      5\u001b[0m \u001b[1;31m#BodyAlt = np.array([])\u001b[0m\u001b[1;33m\u001b[0m\u001b[1;33m\u001b[0m\u001b[1;33m\u001b[0m\u001b[0m\n\u001b[0;32m      6\u001b[0m \u001b[1;31m#for i in Bodies:\u001b[0m\u001b[1;33m\u001b[0m\u001b[1;33m\u001b[0m\u001b[1;33m\u001b[0m\u001b[0m\n\u001b[1;32m----> 7\u001b[1;33m \u001b[0mBodycrd\u001b[0m \u001b[1;33m=\u001b[0m \u001b[0mget_body\u001b[0m\u001b[1;33m(\u001b[0m\u001b[0mBodies\u001b[0m\u001b[1;33m,\u001b[0m \u001b[0mTime\u001b[0m\u001b[1;33m.\u001b[0m\u001b[0mnow\u001b[0m\u001b[1;33m(\u001b[0m\u001b[1;33m)\u001b[0m\u001b[1;33m,\u001b[0m \u001b[0mWinona\u001b[0m\u001b[1;33m)\u001b[0m\u001b[1;33m.\u001b[0m\u001b[0micrs\u001b[0m\u001b[1;33m\u001b[0m\u001b[1;33m\u001b[0m\u001b[0m\n\u001b[0m\u001b[0;32m      8\u001b[0m \u001b[0mBodyAlt\u001b[0m \u001b[1;33m=\u001b[0m \u001b[0mBodycrd\u001b[0m\u001b[1;33m.\u001b[0m\u001b[0mtransform_to\u001b[0m\u001b[1;33m(\u001b[0m\u001b[0maa\u001b[0m\u001b[1;33m)\u001b[0m\u001b[1;33m.\u001b[0m\u001b[0malt\u001b[0m\u001b[1;33m.\u001b[0m\u001b[0mdeg\u001b[0m\u001b[1;33m\u001b[0m\u001b[1;33m\u001b[0m\u001b[0m\n\u001b[0;32m      9\u001b[0m \u001b[0mBodyAz\u001b[0m \u001b[1;33m=\u001b[0m \u001b[0mBodycrd\u001b[0m\u001b[1;33m.\u001b[0m\u001b[0mtransform_to\u001b[0m\u001b[1;33m(\u001b[0m\u001b[0maa\u001b[0m\u001b[1;33m)\u001b[0m\u001b[1;33m.\u001b[0m\u001b[0maz\u001b[0m\u001b[1;33m.\u001b[0m\u001b[0mdeg\u001b[0m\u001b[1;33m\u001b[0m\u001b[1;33m\u001b[0m\u001b[0m\n",
      "\u001b[1;32m~\\AppData\\Local\\Continuum\\anaconda3\\lib\\site-packages\\astropy\\coordinates\\solar_system.py\u001b[0m in \u001b[0;36mget_body\u001b[1;34m(body, time, location, ephemeris)\u001b[0m\n\u001b[0;32m    450\u001b[0m         \u001b[0mlocation\u001b[0m \u001b[1;33m=\u001b[0m \u001b[0mtime\u001b[0m\u001b[1;33m.\u001b[0m\u001b[0mlocation\u001b[0m\u001b[1;33m\u001b[0m\u001b[1;33m\u001b[0m\u001b[0m\n\u001b[0;32m    451\u001b[0m \u001b[1;33m\u001b[0m\u001b[0m\n\u001b[1;32m--> 452\u001b[1;33m     \u001b[0mcartrep\u001b[0m \u001b[1;33m=\u001b[0m \u001b[0m_get_apparent_body_position\u001b[0m\u001b[1;33m(\u001b[0m\u001b[0mbody\u001b[0m\u001b[1;33m,\u001b[0m \u001b[0mtime\u001b[0m\u001b[1;33m,\u001b[0m \u001b[0mephemeris\u001b[0m\u001b[1;33m)\u001b[0m\u001b[1;33m\u001b[0m\u001b[1;33m\u001b[0m\u001b[0m\n\u001b[0m\u001b[0;32m    453\u001b[0m     \u001b[0micrs\u001b[0m \u001b[1;33m=\u001b[0m \u001b[0mICRS\u001b[0m\u001b[1;33m(\u001b[0m\u001b[0mcartrep\u001b[0m\u001b[1;33m)\u001b[0m\u001b[1;33m\u001b[0m\u001b[1;33m\u001b[0m\u001b[0m\n\u001b[0;32m    454\u001b[0m     \u001b[1;32mif\u001b[0m \u001b[0mlocation\u001b[0m \u001b[1;32mis\u001b[0m \u001b[1;32mnot\u001b[0m \u001b[1;32mNone\u001b[0m\u001b[1;33m:\u001b[0m\u001b[1;33m\u001b[0m\u001b[1;33m\u001b[0m\u001b[0m\n",
      "\u001b[1;32m~\\AppData\\Local\\Continuum\\anaconda3\\lib\\site-packages\\astropy\\coordinates\\solar_system.py\u001b[0m in \u001b[0;36m_get_apparent_body_position\u001b[1;34m(body, time, ephemeris)\u001b[0m\n\u001b[0;32m    395\u001b[0m     \u001b[1;31m# light travel time, since this is already included in the Meeus algorithm\u001b[0m\u001b[1;33m\u001b[0m\u001b[1;33m\u001b[0m\u001b[1;33m\u001b[0m\u001b[0m\n\u001b[0;32m    396\u001b[0m     \u001b[1;31m# used.\u001b[0m\u001b[1;33m\u001b[0m\u001b[1;33m\u001b[0m\u001b[1;33m\u001b[0m\u001b[0m\n\u001b[1;32m--> 397\u001b[1;33m     \u001b[1;32mif\u001b[0m \u001b[0mephemeris\u001b[0m \u001b[1;33m==\u001b[0m \u001b[1;34m'builtin'\u001b[0m \u001b[1;32mand\u001b[0m \u001b[0mbody\u001b[0m\u001b[1;33m.\u001b[0m\u001b[0mlower\u001b[0m\u001b[1;33m(\u001b[0m\u001b[1;33m)\u001b[0m \u001b[1;33m==\u001b[0m \u001b[1;34m'moon'\u001b[0m\u001b[1;33m:\u001b[0m\u001b[1;33m\u001b[0m\u001b[1;33m\u001b[0m\u001b[0m\n\u001b[0m\u001b[0;32m    398\u001b[0m         \u001b[1;32mreturn\u001b[0m \u001b[0mget_body_barycentric\u001b[0m\u001b[1;33m(\u001b[0m\u001b[0mbody\u001b[0m\u001b[1;33m,\u001b[0m \u001b[0mtime\u001b[0m\u001b[1;33m,\u001b[0m \u001b[0mephemeris\u001b[0m\u001b[1;33m)\u001b[0m\u001b[1;33m\u001b[0m\u001b[1;33m\u001b[0m\u001b[0m\n\u001b[0;32m    399\u001b[0m \u001b[1;33m\u001b[0m\u001b[0m\n",
      "\u001b[1;31mAttributeError\u001b[0m: 'list' object has no attribute 'lower'"
     ]
    }
   ],
   "source": [
    "Winona = EarthLocation(lat='44.0554d', lon='-91.6664', height=202*u.m)\n",
    "aa = AltAz(location=Winona, obstime=Time.now())\n",
    "Bodies = ['sun', 'mercury', 'venus', 'mars', 'jupiter', 'saturn', 'uranus', 'neptune', 'moon']\n",
    "#BodyAz = np.array([])\n",
    "#BodyAlt = np.array([])\n",
    "#for i in Bodies:\n",
    "Bodycrd = get_body(Bodies, Time.now(), Winona).icrs\n",
    "BodyAlt = Bodycrd.transform_to(aa).alt.deg\n",
    "BodyAz = Bodycrd.transform_to(aa).az.deg"
   ]
  },
  {
   "cell_type": "code",
   "execution_count": 52,
   "metadata": {},
   "outputs": [
    {
     "name": "stdout",
     "output_type": "stream",
     "text": [
      "Help on function get_body in module astropy.coordinates.solar_system:\n",
      "\n",
      "get_body(body, time, location=None, ephemeris=None)\n",
      "    Get a `~astropy.coordinates.SkyCoord` for a solar system body as observed\n",
      "    from a location on Earth in the `~astropy.coordinates.GCRS` reference\n",
      "    system.\n",
      "    \n",
      "    Parameters\n",
      "    ----------\n",
      "    body : str or other\n",
      "        The solar system body for which to calculate positions.  Can also be a\n",
      "        kernel specifier (list of 2-tuples) if the ``ephemeris`` is a JPL\n",
      "        kernel.\n",
      "    time : `~astropy.time.Time`\n",
      "        Time of observation.\n",
      "    location : `~astropy.coordinates.EarthLocation`, optional\n",
      "        Location of observer on the Earth.  If not given, will be taken from\n",
      "        ``time`` (if not present, a geocentric observer will be assumed).\n",
      "    ephemeris : str, optional\n",
      "        Ephemeris to use.  If not given, use the one set with\n",
      "        ``astropy.coordinates.solar_system_ephemeris.set`` (which is\n",
      "        set to 'builtin' by default).\n",
      "    \n",
      "    Returns\n",
      "    -------\n",
      "    skycoord : `~astropy.coordinates.SkyCoord`\n",
      "        GCRS Coordinate for the body\n",
      "    \n",
      "    Notes\n",
      "    -----\n",
      "    You can either give an explicit ephemeris or use a default, which is normally\n",
      "    a built-in ephemeris that does not require ephemeris files.  To change\n",
      "    the default to be the JPL ephemeris::\n",
      "    \n",
      "        >>> from astropy.coordinates import solar_system_ephemeris\n",
      "        >>> solar_system_ephemeris.set('jpl')  # doctest: +SKIP\n",
      "    \n",
      "    Use of any JPL ephemeris requires the jplephem package\n",
      "    (https://pypi.python.org/pypi/jplephem).\n",
      "    If needed, the ephemeris file will be downloaded (and cached).\n",
      "    \n",
      "    One can check which bodies are covered by a given ephemeris using::\n",
      "        >>> solar_system_ephemeris.bodies\n",
      "        ('earth', 'sun', 'moon', 'mercury', 'venus', 'earth-moon-barycenter', 'mars', 'jupiter', 'saturn', 'uranus', 'neptune')\n",
      "\n"
     ]
    }
   ],
   "source": [
    "help(get_body)"
   ]
  },
  {
   "cell_type": "code",
   "execution_count": 58,
   "metadata": {},
   "outputs": [
    {
     "data": {
      "text/plain": [
       "array([1, 2, 3, 4, 5, 6])"
      ]
     },
     "execution_count": 58,
     "metadata": {},
     "output_type": "execute_result"
    }
   ],
   "source": [
    "test =  np.array([1,2,3])\n",
    "np.append(test,[4,5,6])"
   ]
  },
  {
   "cell_type": "code",
   "execution_count": 60,
   "metadata": {},
   "outputs": [],
   "source": [
    "    Winona = EarthLocation(lat='44.0554d', lon='-91.6664', height=202*u.m)\n",
    "    aa = AltAz(location=Winona, obstime=Time.now())\n",
    "    Bodies = np.array(['sun', 'mercury', 'venus', 'mars', 'jupiter', 'saturn', 'uranus', 'neptune', 'moon'])\n",
    "    BodyAz = np.array([])\n",
    "    BodyAlt = np.array([])\n",
    "    for i in Bodies:\n",
    "        Bodycrd = get_body(i, Time.now(), Winona).icrs\n",
    "        BodyAlt = np.append(BodyAlt,Bodycrd.transform_to(aa).alt.deg)\n",
    "        BodyAz = np.append(BodyAz,Bodycrd.transform_to(aa).az.deg)"
   ]
  },
  {
   "cell_type": "code",
   "execution_count": 61,
   "metadata": {},
   "outputs": [
    {
     "data": {
      "text/plain": [
       "array([246.62242846, 258.61984677, 252.24966972, 231.76283025,\n",
       "       111.10793592,  89.24848553, 314.41766927,   2.03790713,\n",
       "       265.87508682])"
      ]
     },
     "execution_count": 61,
     "metadata": {},
     "output_type": "execute_result"
    }
   ],
   "source": [
    "BodyAz"
   ]
  },
  {
   "cell_type": "code",
   "execution_count": null,
   "metadata": {},
   "outputs": [],
   "source": []
  }
 ],
 "metadata": {
  "kernelspec": {
   "display_name": "Python 3",
   "language": "python",
   "name": "python3"
  },
  "language_info": {
   "codemirror_mode": {
    "name": "ipython",
    "version": 3
   },
   "file_extension": ".py",
   "mimetype": "text/x-python",
   "name": "python",
   "nbconvert_exporter": "python",
   "pygments_lexer": "ipython3",
   "version": "3.7.3"
  }
 },
 "nbformat": 4,
 "nbformat_minor": 2
}
