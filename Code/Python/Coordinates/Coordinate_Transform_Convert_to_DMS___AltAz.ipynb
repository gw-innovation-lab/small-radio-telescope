{
 "cells": [
  {
   "cell_type": "code",
   "execution_count": 2,
   "metadata": {},
   "outputs": [],
   "source": [
    "## Tutorial: Transforming between coordinate systems\n",
    "## From: http://learn.astropy.org/rst-tutorials/Coordinates-Transform.html?highlight=filtertutorials\n",
    "## This code should allow me to transform between any coordinate systems I might need\n",
    "from urllib.parse import urlencode\n",
    "from urllib.request import urlretrieve\n",
    "\n",
    "# Third-party dependencies\n",
    "from astropy import units as u\n",
    "from astropy.coordinates import SkyCoord\n",
    "from astropy.table import Table\n",
    "import numpy as np\n",
    "from IPython.display import Image\n",
    "\n",
    "from astropy.coordinates import EarthLocation\n",
    "from astropy.time import Time\n",
    "\n",
    "from astropy.coordinates import AltAz"
   ]
  },
  {
   "cell_type": "code",
   "execution_count": 3,
   "metadata": {},
   "outputs": [
    {
     "name": "stdout",
     "output_type": "stream",
     "text": [
      "<SkyCoord (ICRS): (ra, dec) in deg\n",
      "    (9.81625, 0.88806)>\n"
     ]
    }
   ],
   "source": [
    "## This line stores the location of the object (ra,dec) in icrs\n",
    "hcg7_center = SkyCoord(9.81625*u.deg, 0.88806*u.deg, frame='icrs')  # using degrees directly\n",
    "print(hcg7_center)"
   ]
  },
  {
   "cell_type": "code",
   "execution_count": 8,
   "metadata": {},
   "outputs": [
    {
     "name": "stdout",
     "output_type": "stream",
     "text": [
      "(-1994310.09211632, -5037908.60633759, 3357621.75212217) m\n"
     ]
    }
   ],
   "source": [
    "## Here is where we start actually doing what I'm trying to do.\n",
    "## The next section will focus on converting to Altittude and Azimuth\n",
    "## Since these are referenced from Earth, we need to include a time and location \n",
    "## Time is referenced from UTC\n",
    "\n",
    "# Kitt Peak, Arizona\n",
    "## This unit is in DMS and can be entered here like the directly in 'xdymzs' format\n",
    "## Meters above sea level is also needed\n",
    "kitt_peak = EarthLocation(lat='31d57.5m', lon='-111d35.8m', height=2096*u.m)\n",
    "print(kitt_peak)"
   ]
  },
  {
   "cell_type": "code",
   "execution_count": 6,
   "metadata": {},
   "outputs": [
    {
     "name": "stdout",
     "output_type": "stream",
     "text": [
      "(-1994502.60430614, -5037538.54232911, 3358104.99690298) m\n"
     ]
    }
   ],
   "source": [
    "## Needs observation location\n",
    "kitt_peak = EarthLocation.of_site('Kitt Peak')\n",
    "print(kitt_peak)"
   ]
  },
  {
   "cell_type": "code",
   "execution_count": 9,
   "metadata": {},
   "outputs": [],
   "source": [
    "## Needs observation time\n",
    "observing_time = Time('2010-12-21 3:40')"
   ]
  },
  {
   "cell_type": "code",
   "execution_count": 10,
   "metadata": {},
   "outputs": [
    {
     "name": "stdout",
     "output_type": "stream",
     "text": [
      "<AltAz Frame (obstime=2010-12-21 03:40:00.000, location=(-1994310.09211632, -5037908.60633759, 3357621.75212217) m, pressure=0.0 hPa, temperature=0.0 deg_C, relative_humidity=0.0, obswl=1.0 micron)>\n"
     ]
    }
   ],
   "source": [
    "## Full information for observation at this time and place\n",
    "aa = AltAz(location=kitt_peak, obstime=observing_time)\n",
    "print(aa)"
   ]
  },
  {
   "cell_type": "code",
   "execution_count": 11,
   "metadata": {},
   "outputs": [
    {
     "data": {
      "text/plain": [
       "<SkyCoord (AltAz: obstime=2010-12-21 03:40:00.000, location=(-1994310.09211632, -5037908.60633759, 3357621.75212217) m, pressure=0.0 hPa, temperature=0.0 deg_C, relative_humidity=0.0, obswl=1.0 micron): (az, alt) in deg\n",
       "    (219.62127374, 52.12531469)>"
      ]
     },
     "execution_count": 11,
     "metadata": {},
     "output_type": "execute_result"
    }
   ],
   "source": [
    "## Gives azimuth and altittude in degrees\n",
    "hcg7_center.transform_to(aa)"
   ]
  },
  {
   "cell_type": "code",
   "execution_count": 12,
   "metadata": {},
   "outputs": [
    {
     "name": "stdout",
     "output_type": "stream",
     "text": [
      "52.125314690097845\n"
     ]
    }
   ],
   "source": [
    "## Isolates altittide (adding .deg puts degrees in decimal so that a cleaner rounding \n",
    "## function can be used below, debatebly unnecessary)\n",
    "\n",
    "alt = hcg7_center.transform_to(aa).alt.deg\n",
    "print(alt)"
   ]
  },
  {
   "cell_type": "code",
   "execution_count": 13,
   "metadata": {},
   "outputs": [
    {
     "name": "stdout",
     "output_type": "stream",
     "text": [
      "219.6212737398185\n"
     ]
    }
   ],
   "source": [
    "az = hcg7_center.transform_to(aa).az.deg\n",
    "print(az)"
   ]
  },
  {
   "cell_type": "code",
   "execution_count": 14,
   "metadata": {},
   "outputs": [],
   "source": [
    "## Allows us to change between degrees with decimals and dms while simultaneously rounding secs\n",
    "def decdeg2dms(dd):\n",
    "   is_positive = dd >= 0\n",
    "   dd = abs(dd)\n",
    "   minutes,seconds = divmod(dd*3600,60)\n",
    "   degrees,minutes = divmod(minutes,60)\n",
    "   degrees = degrees if is_positive else -degrees\n",
    "   return round(degrees), round(minutes), round(seconds)"
   ]
  },
  {
   "cell_type": "code",
   "execution_count": 15,
   "metadata": {},
   "outputs": [
    {
     "name": "stdout",
     "output_type": "stream",
     "text": [
      "(52, 7, 31)\n"
     ]
    }
   ],
   "source": [
    "alt_dms = decdeg2dms(hcg7_center.transform_to(aa).alt.deg)\n",
    "print(alt_dms)"
   ]
  },
  {
   "cell_type": "code",
   "execution_count": 16,
   "metadata": {},
   "outputs": [
    {
     "name": "stdout",
     "output_type": "stream",
     "text": [
      "(219, 37, 17)\n"
     ]
    }
   ],
   "source": [
    "az_dms = decdeg2dms(hcg7_center.transform_to(aa).az.deg)\n",
    "print(az_dms)"
   ]
  },
  {
   "cell_type": "code",
   "execution_count": null,
   "metadata": {},
   "outputs": [],
   "source": []
  }
 ],
 "metadata": {
  "kernelspec": {
   "display_name": "Python 3",
   "language": "python",
   "name": "python3"
  },
  "language_info": {
   "codemirror_mode": {
    "name": "ipython",
    "version": 3
   },
   "file_extension": ".py",
   "mimetype": "text/x-python",
   "name": "python",
   "nbconvert_exporter": "python",
   "pygments_lexer": "ipython3",
   "version": "3.6.8"
  }
 },
 "nbformat": 4,
 "nbformat_minor": 2
}
