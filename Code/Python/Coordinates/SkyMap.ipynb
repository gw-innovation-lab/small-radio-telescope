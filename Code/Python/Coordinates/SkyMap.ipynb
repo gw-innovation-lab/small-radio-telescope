{
 "cells": [
  {
   "cell_type": "code",
   "execution_count": 1,
   "metadata": {},
   "outputs": [],
   "source": [
    "## Tutorial: Transforming between coordinate systems\n",
    "## From: http://learn.astropy.org/rst-tutorials/Coordinates-Transform.html?highlight=filtertutorials\n",
    "## This code should allow me to transform between any coordinate systems I might need\n",
    "from urllib.parse import urlencode\n",
    "from urllib.request import urlretrieve\n",
    "\n",
    "# Third-party dependencies\n",
    "from astropy import units as u\n",
    "from astropy.coordinates import SkyCoord\n",
    "from astropy.coordinates import get_sun\n",
    "from astropy.coordinates import get_body\n",
    "\n",
    "from astropy.table import Table\n",
    "import numpy as np\n",
    "from IPython.display import Image\n",
    "\n",
    "from astropy.coordinates import EarthLocation\n",
    "from astropy.time import Time\n",
    "from astropy.coordinates import AltAz"
   ]
  },
  {
   "cell_type": "code",
   "execution_count": 2,
   "metadata": {},
   "outputs": [],
   "source": [
    "# Set up matplotlib and use a nicer set of plot parameters\n",
    "from astropy.visualization import astropy_mpl_style\n",
    "import matplotlib.pyplot as plt\n",
    "plt.style.use(astropy_mpl_style)\n",
    "%matplotlib inline\n",
    "Winona = EarthLocation(lat='44.0554d', lon='-91.6664', height=202*u.m)\n",
    "aa = AltAz(location=Winona, obstime=Time.now())"
   ]
  },
  {
   "cell_type": "code",
   "execution_count": 14,
   "metadata": {},
   "outputs": [
    {
     "name": "stdout",
     "output_type": "stream",
     "text": [
      "[ 23.6454064   31.97512084  27.91073877  13.8698206  -62.62894712\n",
      " -41.23959576  14.27370816  27.91073877  53.31477718] [ 86.32016753  97.03168055  87.59904996  80.06210186 316.80782373\n",
      " 278.54714215 247.33462614  87.59904996 116.25197747]\n"
     ]
    }
   ],
   "source": [
    "Suncrd = get_body('sun', Time.now(), Winona).icrs\n",
    "SunAlt = Suncrd.transform_to(aa).alt.deg\n",
    "SunAz = Suncrd.transform_to(aa).az.deg\n",
    "\n",
    "Mercrd = get_body('mercury', Time.now(), Winona).icrs\n",
    "MerAlt = Mercrd.transform_to(aa).alt.deg\n",
    "MerAz = Mercrd.transform_to(aa).az.deg\n",
    "\n",
    "Vencrd = get_body('venus', Time.now(), Winona).icrs\n",
    "VenAlt = Vencrd.transform_to(aa).alt.deg\n",
    "VenAz = Vencrd.transform_to(aa).az.deg\n",
    "\n",
    "Marcrd = get_body('mars', Time.now(), Winona).icrs\n",
    "MarAlt = Marcrd.transform_to(aa).alt.deg\n",
    "MarAz = Marcrd.transform_to(aa).az.deg\n",
    "\n",
    "Jupcrd = get_body('jupiter', Time.now(), Winona).icrs\n",
    "JupAlt = Jupcrd.transform_to(aa).alt.deg\n",
    "JupAz = Jupcrd.transform_to(aa).az.deg\n",
    "\n",
    "Satcrd = get_body('saturn', Time.now(), Winona).icrs\n",
    "SatAlt = Satcrd.transform_to(aa).alt.deg\n",
    "SatAz = Satcrd.transform_to(aa).az.deg\n",
    "\n",
    "Nepcrd = get_body('neptune', Time.now(), Winona).icrs\n",
    "NepAlt = Nepcrd.transform_to(aa).alt.deg\n",
    "NepAz = Nepcrd.transform_to(aa).az.deg\n",
    "\n",
    "Uracrd = get_body('uranus', Time.now(), Winona).icrs\n",
    "UraAlt = Vencrd.transform_to(aa).alt.deg\n",
    "UraAz = Vencrd.transform_to(aa).az.deg\n",
    "\n",
    "Moocrd = get_body('moon', Time.now(), Winona).icrs\n",
    "MooAlt = Moocrd.transform_to(aa).alt.deg\n",
    "MooAz = Moocrd.transform_to(aa).az.deg\n",
    "\n",
    "SolarSystemAlt = np.array([SunAlt, MerAlt, VenAlt, MarAlt, JupAlt, SatAlt, NepAlt, UraAlt, MooAlt])\n",
    "SolarSystemAz = np.array([SunAz, MerAz, VenAz, MarAz, JupAz, SatAz, NepAz, UraAz, MooAz])\n",
    "SolarSystemNames = np.array(['Sun', 'Mercury', 'Venus', 'Mars', 'Jupiter', 'Saturn', 'Neptune', 'Uranus', 'Moon'])\n",
    "print(SolarSystemAlt, SolarSystemAz)"
   ]
  },
  {
   "cell_type": "code",
   "execution_count": 17,
   "metadata": {},
   "outputs": [
    {
     "data": {
      "image/png": "[encoded data removed]",
      "text/plain": [
       "<Figure size 432x288 with 1 Axes>"
      ]
     },
     "metadata": {},
     "output_type": "display_data"
    }
   ],
   "source": [
    "plt.plot(SolarSystemAz, SolarSystemAlt, 'ro')\n",
    "plt.xlabel('Azimuth')\n",
    "plt.ylabel('Altitude')\n",
    "plt.xlim(0,360)\n",
    "plt.ylim(0,90)\n",
    "plt.tight_layout()\n",
    "\n",
    "for i,type in enumerate(SolarSystemNames):\n",
    "    x = SolarSystemAz[i]\n",
    "   # y = SolarSystemAlt[i]\n",
    "    #if y > 0:\n",
    "    #    plt.scatter(x, y, marker='o', color='red')\n",
    "    plt.text(x+0.3, y+0.3, type, fontsize=9, color='white')\n",
    "plt.show()"
   ]
  },
  {
   "cell_type": "code",
   "execution_count": 4,
   "metadata": {},
   "outputs": [
    {
     "ename": "NameError",
     "evalue": "name 'plt' is not defined",
     "output_type": "error",
     "traceback": [
      "\u001b[1;31m---------------------------------------------------------------------------\u001b[0m",
      "\u001b[1;31mNameError\u001b[0m                                 Traceback (most recent call last)",
      "\u001b[1;32m<ipython-input-4-bf0176c47c2d>\u001b[0m in \u001b[0;36m<module>\u001b[1;34m\u001b[0m\n\u001b[1;32m----> 1\u001b[1;33m \u001b[0mhelp\u001b[0m\u001b[1;33m(\u001b[0m\u001b[0mplt\u001b[0m\u001b[1;33m)\u001b[0m\u001b[1;33m\u001b[0m\u001b[1;33m\u001b[0m\u001b[0m\n\u001b[0m",
      "\u001b[1;31mNameError\u001b[0m: name 'plt' is not defined"
     ]
    }
   ],
   "source": [
    "help(plt)"
   ]
  },
  {
   "cell_type": "code",
   "execution_count": null,
   "metadata": {},
   "outputs": [],
   "source": []
  }
 ],
 "metadata": {
  "kernelspec": {
   "display_name": "Python 3",
   "language": "python",
   "name": "python3"
  },
  "language_info": {
   "codemirror_mode": {
    "name": "ipython",
    "version": 3
   },
   "file_extension": ".py",
   "mimetype": "text/x-python",
   "name": "python",
   "nbconvert_exporter": "python",
   "pygments_lexer": "ipython3",
   "version": "3.7.3"
  }
 },
 "nbformat": 4,
 "nbformat_minor": 2
}
