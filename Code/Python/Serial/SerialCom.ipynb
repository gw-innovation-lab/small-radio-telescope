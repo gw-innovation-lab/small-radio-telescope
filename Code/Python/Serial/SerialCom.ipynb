{
 "cells": [
  {
   "cell_type": "code",
   "execution_count": 12,
   "metadata": {},
   "outputs": [],
   "source": [
    "import serial"
   ]
  },
  {
   "cell_type": "code",
   "execution_count": 13,
   "metadata": {},
   "outputs": [],
   "source": [
    "ser = serial.Serial('COM3', baudrate = 9600, timeout=1)"
   ]
  },
  {
   "cell_type": "code",
   "execution_count": 15,
   "metadata": {},
   "outputs": [],
   "source": [
    "def getValues():\n",
    "    ser.write(b'g')\n",
    "    arduinoData = ser.readline().decode('ascii')\n",
    "    return arduinoData"
   ]
  },
  {
   "cell_type": "code",
   "execution_count": null,
   "metadata": {},
   "outputs": [
    {
     "name": "stdout",
     "output_type": "stream",
     "text": [
      "Get data point?y\n",
      "Hello Pi, this is Arduino...\n",
      "\n",
      "Get data point?y\n",
      "Hello Pi, this is Arduino...\n",
      "\n",
      "Get data point?n\n",
      "Get data point?n\n",
      "Get data point?y\n",
      "Hello Pi, this is Arduino...\n",
      "\n"
     ]
    }
   ],
   "source": [
    "while(1):\n",
    "    userInput = input('Get data point?')\n",
    "    if userInput == 'y':\n",
    "        print(getValues())"
   ]
  },
  {
   "cell_type": "code",
   "execution_count": null,
   "metadata": {},
   "outputs": [],
   "source": []
  }
 ],
 "metadata": {
  "kernelspec": {
   "display_name": "Python 3",
   "language": "python",
   "name": "python3"
  },
  "language_info": {
   "codemirror_mode": {
    "name": "ipython",
    "version": 3
   },
   "file_extension": ".py",
   "mimetype": "text/x-python",
   "name": "python",
   "nbconvert_exporter": "python",
   "pygments_lexer": "ipython3",
   "version": "3.6.8"
  }
 },
 "nbformat": 4,
 "nbformat_minor": 2
}
